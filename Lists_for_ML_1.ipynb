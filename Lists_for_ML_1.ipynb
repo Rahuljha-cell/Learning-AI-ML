{
  "nbformat": 4,
  "nbformat_minor": 0,
  "metadata": {
    "colab": {
      "provenance": [],
      "authorship_tag": "ABX9TyMG/Pycz9c0jwoghp+d5RW+",
      "include_colab_link": true
    },
    "kernelspec": {
      "name": "python3",
      "display_name": "Python 3"
    },
    "language_info": {
      "name": "python"
    }
  },
  "cells": [
    {
      "cell_type": "markdown",
      "metadata": {
        "id": "view-in-github",
        "colab_type": "text"
      },
      "source": [
        "<a href=\"https://colab.research.google.com/github/Rahuljha-cell/Leetcode-Practice/blob/main/Lists_for_ML_1.ipynb\" target=\"_parent\"><img src=\"https://colab.research.google.com/assets/colab-badge.svg\" alt=\"Open In Colab\"/></a>"
      ]
    },
    {
      "cell_type": "markdown",
      "source": [
        "list = [\"a\", 2, 3]\n",
        "print(list)\n"
      ],
      "metadata": {
        "id": "oT3aPzX8rMRk"
      }
    },
    {
      "cell_type": "code",
      "source": [
        "list1 = [i for i in range(10)]\n",
        "print(list1)"
      ],
      "metadata": {
        "colab": {
          "base_uri": "https://localhost:8080/"
        },
        "id": "TxA6iJIltrXF",
        "outputId": "af2b1792-d5ec-4bb4-a4b0-87fba33d75ef"
      },
      "execution_count": 4,
      "outputs": [
        {
          "output_type": "stream",
          "name": "stdout",
          "text": [
            "[0, 1, 2, 3, 4, 5, 6, 7, 8, 9]\n"
          ]
        }
      ]
    },
    {
      "cell_type": "code",
      "source": [
        "list2 = [[1,2,3] for i in range(10)]\n",
        "print(list2)"
      ],
      "metadata": {
        "colab": {
          "base_uri": "https://localhost:8080/"
        },
        "id": "7Fw_zG7dumSJ",
        "outputId": "a9caed67-f5c4-4c04-a4fa-b104b693f66e"
      },
      "execution_count": 5,
      "outputs": [
        {
          "output_type": "stream",
          "name": "stdout",
          "text": [
            "[[1, 2, 3], [1, 2, 3], [1, 2, 3], [1, 2, 3], [1, 2, 3], [1, 2, 3], [1, 2, 3], [1, 2, 3], [1, 2, 3], [1, 2, 3]]\n"
          ]
        }
      ]
    },
    {
      "cell_type": "code",
      "source": [
        "list3 = [[j for j in range(5)] for j in range(5)]\n",
        "print(list3)"
      ],
      "metadata": {
        "colab": {
          "base_uri": "https://localhost:8080/"
        },
        "id": "hUn_NB__uoK5",
        "outputId": "facbf5c6-2703-43ec-b443-6626b2763d6d"
      },
      "execution_count": 7,
      "outputs": [
        {
          "output_type": "stream",
          "name": "stdout",
          "text": [
            "[[0, 1, 2, 3, 4], [0, 1, 2, 3, 4], [0, 1, 2, 3, 4], [0, 1, 2, 3, 4], [0, 1, 2, 3, 4]]\n"
          ]
        }
      ]
    },
    {
      "cell_type": "code",
      "source": [
        "list4 = [[j*j for j in range(5)] for j in range(5)];\n",
        "print(list4);"
      ],
      "metadata": {
        "colab": {
          "base_uri": "https://localhost:8080/"
        },
        "id": "7d7sBPvbupLu",
        "outputId": "af1bdf2a-2022-4c79-c6c5-a8acc3b52c43"
      },
      "execution_count": 8,
      "outputs": [
        {
          "output_type": "stream",
          "name": "stdout",
          "text": [
            "[[0, 1, 4, 9, 16], [0, 1, 4, 9, 16], [0, 1, 4, 9, 16], [0, 1, 4, 9, 16], [0, 1, 4, 9, 16]]\n"
          ]
        }
      ]
    },
    {
      "cell_type": "code",
      "source": [
        "list5 = [[j+i for j in range(5)] for i in range(5)];\n",
        "print(list5);"
      ],
      "metadata": {
        "colab": {
          "base_uri": "https://localhost:8080/"
        },
        "id": "1fp5CrfrwZX1",
        "outputId": "c5b48187-be04-424f-e8aa-09efa17d0144"
      },
      "execution_count": 9,
      "outputs": [
        {
          "output_type": "stream",
          "name": "stdout",
          "text": [
            "[[0, 1, 2, 3, 4], [1, 2, 3, 4, 5], [2, 3, 4, 5, 6], [3, 4, 5, 6, 7], [4, 5, 6, 7, 8]]\n"
          ]
        }
      ]
    },
    {
      "cell_type": "code",
      "source": [
        "list6 = [[3*i+j for j in range(3)] for i in range(3)]\n",
        "print(list6);"
      ],
      "metadata": {
        "colab": {
          "base_uri": "https://localhost:8080/"
        },
        "id": "-EvrGJxCyL_8",
        "outputId": "4a1ff84c-de70-4823-c6aa-1f90dd8f4138"
      },
      "execution_count": 11,
      "outputs": [
        {
          "output_type": "stream",
          "name": "stdout",
          "text": [
            "[[0, 1, 2], [3, 4, 5], [6, 7, 8]]\n"
          ]
        }
      ]
    },
    {
      "cell_type": "code",
      "source": [
        "R = int(input(\"Enter the number of rows: \"))\n",
        "C = int(input(\"Enter the number of columns: \"))\n",
        "list7 = [int(x) for x in input().split()]\n",
        "print(\"List in 1D: \", list7)\n",
        "\n",
        "a = []\n",
        "\n",
        "for i in range(R):\n",
        "  a.append([])\n",
        "  for j in range(C):\n",
        "    a[i].append(list7[C*i+j])\n",
        "\n",
        "print(\"List in 2D\", a)\n"
      ],
      "metadata": {
        "colab": {
          "base_uri": "https://localhost:8080/"
        },
        "id": "2FrW_PIP0yhg",
        "outputId": "c07f1862-d1b9-4fe3-c94b-b5fddd4709f4"
      },
      "execution_count": 16,
      "outputs": [
        {
          "output_type": "stream",
          "name": "stdout",
          "text": [
            "Enter the number of rows: 2\n",
            "Enter the number of columns: 2\n",
            "1 2 3 4\n",
            "List in 1D:  [1, 2, 3, 4]\n",
            "List in 2D [[1, 2], [3, 4]]\n"
          ]
        }
      ]
    },
    {
      "cell_type": "code",
      "source": [
        "#Initialize matrix\n",
        "list8 = [[1,2,3], [4, 5, 6], [7, 8, 9], [10, 11, 12]]\n",
        "\n",
        "print(\"array:\", list8)\n",
        "rows = len(list8)\n",
        "cols = len(list8[0]);\n",
        "\n",
        "print(rows, cols)\n",
        "\n",
        "for j in range(cols):\n",
        "  if j % 2 == 0:\n",
        "    for i in range(rows):\n",
        "      print(list8[i][j])\n",
        "  else:\n",
        "    i = rows - 1\n",
        "    while (i >= 0):\n",
        "      print(list8[i][j])\n",
        "      i = i -1"
      ],
      "metadata": {
        "colab": {
          "base_uri": "https://localhost:8080/"
        },
        "id": "iK_I1N-e6JeB",
        "outputId": "670f9c68-177d-4195-d994-e57cde4fe507"
      },
      "execution_count": 18,
      "outputs": [
        {
          "output_type": "stream",
          "name": "stdout",
          "text": [
            "array: [[1, 2, 3], [4, 5, 6], [7, 8, 9], [10, 11, 12]]\n",
            "4 3\n",
            "1\n",
            "4\n",
            "7\n",
            "10\n",
            "11\n",
            "8\n",
            "5\n",
            "2\n",
            "3\n",
            "6\n",
            "9\n",
            "12\n"
          ]
        }
      ]
    },
    {
      "cell_type": "code",
      "source": [
        "import math as m\n",
        "m.gcd(120, 45)"
      ],
      "metadata": {
        "colab": {
          "base_uri": "https://localhost:8080/"
        },
        "id": "-VOyfdOg-eRT",
        "outputId": "504d96fb-88d1-4202-e636-00c0d12b6cc2"
      },
      "execution_count": 22,
      "outputs": [
        {
          "output_type": "execute_result",
          "data": {
            "text/plain": [
              "15"
            ]
          },
          "metadata": {},
          "execution_count": 22
        }
      ]
    }
  ]
}