{
  "nbformat": 4,
  "nbformat_minor": 0,
  "metadata": {
    "colab": {
      "provenance": [],
      "include_colab_link": true
    },
    "kernelspec": {
      "name": "python3",
      "display_name": "Python 3"
    }
  },
  "cells": [
    {
      "cell_type": "markdown",
      "metadata": {
        "id": "view-in-github",
        "colab_type": "text"
      },
      "source": [
        "<a href=\"https://colab.research.google.com/github/Rahuljha-cell/Learning-AI-ML/blob/main/Logistic_Regression_Classification_Template.ipynb\" target=\"_parent\"><img src=\"https://colab.research.google.com/assets/colab-badge.svg\" alt=\"Open In Colab\"/></a>"
      ]
    },
    {
      "cell_type": "markdown",
      "metadata": {
        "id": "Z-jZGC0q0aiY"
      },
      "source": [
        "# Logistic Regression"
      ]
    },
    {
      "cell_type": "markdown",
      "metadata": {
        "id": "jE4Rc_OO0eJM"
      },
      "source": [
        "## Importing libraries"
      ]
    },
    {
      "cell_type": "code",
      "source": [
        "import numpy as np\n",
        "import matplotlib.pyplot as plt\n",
        "import pandas as pd"
      ],
      "metadata": {
        "id": "AzC40DDU6L9b"
      },
      "execution_count": 3,
      "outputs": []
    },
    {
      "cell_type": "markdown",
      "metadata": {
        "id": "A9-xGHd20gY1"
      },
      "source": [
        "## Importing dataset"
      ]
    },
    {
      "cell_type": "code",
      "source": [
        "dataset = pd.read_csv('Nike_com Logistic Regression.csv')\n",
        "X = dataset.iloc[:, :-1].values\n",
        "y = dataset.iloc[:, -1].values"
      ],
      "metadata": {
        "id": "b-aWTKps6rYz"
      },
      "execution_count": 4,
      "outputs": []
    },
    {
      "cell_type": "code",
      "source": [
        "print(X)"
      ],
      "metadata": {
        "colab": {
          "base_uri": "https://localhost:8080/"
        },
        "id": "QAmQZ7pR8uyu",
        "outputId": "29d6edba-df20-4483-e3d3-24a737d442c6"
      },
      "execution_count": 6,
      "outputs": [
        {
          "output_type": "stream",
          "name": "stdout",
          "text": [
            "[[   15  6334]\n",
            " [   28  6667]\n",
            " [   20 14334]\n",
            " [   21 19000]\n",
            " [   15 25334]\n",
            " [   21 19334]\n",
            " [   21 28000]\n",
            " [   25 50000]\n",
            " [   20 11000]\n",
            " [   28 21667]\n",
            " [   20 26667]\n",
            " [   26 17000]\n",
            " [   28 36000]\n",
            " [   18  6667]\n",
            " [   20 26334]\n",
            " [   21 18000]\n",
            " [   24 45000]\n",
            " [   24 29667]\n",
            " [   19 10667]\n",
            " [   14 14667]\n",
            " [   23 27667]\n",
            " [   28  7667]\n",
            " [   21 19334]\n",
            " [   19 18334]\n",
            " [   18 16000]\n",
            " [   22 26334]\n",
            " [   17  6000]\n",
            " [   25 39000]\n",
            " [   21  6667]\n",
            " [   20 29000]\n",
            " [   18 22000]\n",
            " [   25 40000]\n",
            " [   17 21000]\n",
            " [   24 22667]\n",
            " [   20 26667]\n",
            " [   19  9000]\n",
            " [   16  7667]\n",
            " [   26 37667]\n",
            " [   25  6000]\n",
            " [   27 37334]\n",
            " [   24 38667]\n",
            " [   20  5000]\n",
            " [   23  9334]\n",
            " [   23 27667]\n",
            " [   26 49667]\n",
            " [   15  7000]\n",
            " [   16 24000]\n",
            " [   20 11667]\n",
            " [   21 29667]\n",
            " [   20 28667]\n",
            " [   30 26667]\n",
            " [   31 23667]\n",
            " [   29 23667]\n",
            " [   20 30000]\n",
            " [   29 11000]\n",
            " [   17 18334]\n",
            " [   28 23667]\n",
            " [   23 49334]\n",
            " [   23 15667]\n",
            " [   16 29334]\n",
            " [   27 38334]\n",
            " [   20 39334]\n",
            " [   27 14334]\n",
            " [   27 24000]\n",
            " [   18  9334]\n",
            " [   28 15667]\n",
            " [   20  7334]\n",
            " [   19  7667]\n",
            " [   16 27334]\n",
            " [   26 13667]\n",
            " [   22 10667]\n",
            " [   19 28000]\n",
            " [   15  8667]\n",
            " [   23 14334]\n",
            " [   15 23334]\n",
            " [   22 29667]\n",
            " [   27 14334]\n",
            " [   24 26334]\n",
            " [   16 12000]\n",
            " [   20 26667]\n",
            " [   28  7334]\n",
            " [   28 13000]\n",
            " [   39 24667]\n",
            " [   31 44667]\n",
            " [   32 23667]\n",
            " [   46 33667]\n",
            " [   37 15667]\n",
            " [   44 43334]\n",
            " [   41 38000]\n",
            " [   32 47334]\n",
            " [   36  7334]\n",
            " [   38 32000]\n",
            " [   41 50000]\n",
            " [   28 19334]\n",
            " [   37 14334]\n",
            " [   48 36000]\n",
            " [   39 21667]\n",
            " [   32 26000]\n",
            " [   36 32000]\n",
            " [   47 47667]\n",
            " [   32 26667]\n",
            " [   28 30334]\n",
            " [   29 48000]\n",
            " [   48 34000]\n",
            " [   28 20000]\n",
            " [   29 17667]\n",
            " [   28 42000]\n",
            " [   44 44334]\n",
            " [   32 24000]\n",
            " [   33 26667]\n",
            " [   28 49000]\n",
            " [   31 14000]\n",
            " [   39 28667]\n",
            " [   36 26334]\n",
            " [   29 26667]\n",
            " [   36 27334]\n",
            " [   42 47667]\n",
            " [   33 49667]\n",
            " [   30 19667]\n",
            " [   40 29334]\n",
            " [   44 34667]\n",
            " [   32 24000]\n",
            " [   28 16667]\n",
            " [   45 40667]\n",
            " [   32 17334]\n",
            " [   28 32334]\n",
            " [   35 13000]\n",
            " [   29 17334]\n",
            " [   38 44667]\n",
            " [   29 48667]\n",
            " [   41 30000]\n",
            " [   32 24000]\n",
            " [   32 19000]\n",
            " [   46 31667]\n",
            " [   36 43667]\n",
            " [   28 48000]\n",
            " [   28 24000]\n",
            " [   38 30000]\n",
            " [   33 36000]\n",
            " [   32 25000]\n",
            " [   37 48000]\n",
            " [   32 20334]\n",
            " [   34 44334]\n",
            " [   47 25334]\n",
            " [   48 14000]\n",
            " [   31 35334]\n",
            " [   45  8667]\n",
            " [   45 24667]\n",
            " [   30 23667]\n",
            " [   39 29334]\n",
            " [   41 12667]\n",
            " [   40 12000]\n",
            " [   47 29334]\n",
            " [   28 20334]\n",
            " [   29 23334]\n",
            " [   41  7000]\n",
            " [   38 47000]\n",
            " [   29 31000]\n",
            " [   29 20667]\n",
            " [   38 46000]\n",
            " [   32 26334]\n",
            " [   29 26000]\n",
            " [   31 44667]\n",
            " [   39 29667]\n",
            " [   44 13000]\n",
            " [   29 25667]\n",
            " [   28 21000]\n",
            " [   33 24334]\n",
            " [   36 39000]\n",
            " [   38 24667]\n",
            " [   29 26334]\n",
            " [   32 20000]\n",
            " [   37 37667]\n",
            " [   30 16667]\n",
            " [   39 47000]\n",
            " [   31 26334]\n",
            " [   31 25000]\n",
            " [   43 34667]\n",
            " [   28 18334]\n",
            " [   36 10667]\n",
            " [   28 20000]\n",
            " [   41 46000]\n",
            " [   42 27334]\n",
            " [   32 17334]\n",
            " [   38 10000]\n",
            " [   38 43667]\n",
            " [   32 24000]\n",
            " [   37 35667]\n",
            " [   30 17000]\n",
            " [   38 39667]\n",
            " [   33 21667]\n",
            " [   32 21667]\n",
            " [   45 20000]\n",
            " [   28 18000]\n",
            " [   28 26334]\n",
            " [   34 43000]\n",
            " [   42 11334]\n",
            " [   37 16667]\n",
            " [   33 26334]]\n"
          ]
        }
      ]
    },
    {
      "cell_type": "code",
      "source": [
        "print(y)"
      ],
      "metadata": {
        "colab": {
          "base_uri": "https://localhost:8080/"
        },
        "id": "yqr4b9Vf85a9",
        "outputId": "977d0ec0-8e68-4008-cb83-6ab50aecb235"
      },
      "execution_count": 7,
      "outputs": [
        {
          "output_type": "stream",
          "name": "stdout",
          "text": [
            "[0 0 0 0 0 0 0 1 0 0 0 0 0 0 0 0 1 0 0 0 0 0 0 0 0 0 0 0 0 0 0 1 0 0 0 0 0\n",
            " 0 0 1 0 0 0 0 1 0 0 0 0 0 0 0 0 0 0 0 0 1 0 0 0 0 0 0 0 0 0 0 0 0 0 0 0 0\n",
            " 0 0 0 0 0 0 0 0 0 1 0 1 0 1 0 1 0 1 1 0 0 1 0 0 0 1 0 1 1 1 0 0 1 1 0 1 1\n",
            " 0 1 1 0 0 1 1 0 1 1 0 0 1 0 1 0 0 1 1 1 0 0 1 1 1 0 1 1 0 1 0 0 1 1 1 1 1\n",
            " 0 1 1 1 1 0 1 1 0 1 0 1 0 1 1 1 1 0 0 1 1 1 1 0 1 0 1 0 1 1 0 1 0 1 1 0 1\n",
            " 1 0 1 0 1 0 0 1 0 0 1 1 1 0]\n"
          ]
        }
      ]
    },
    {
      "cell_type": "markdown",
      "metadata": {
        "id": "8REFJFGC0lRN"
      },
      "source": [
        "## Splitting the dataset into Training & Test set"
      ]
    },
    {
      "cell_type": "code",
      "source": [
        "from sklearn.model_selection import train_test_split\n",
        "X_train, X_test, y_train, y_test = train_test_split(X, y, test_size = 0.2, random_state= 42)"
      ],
      "metadata": {
        "id": "UW1UBJ318ssL"
      },
      "execution_count": 9,
      "outputs": []
    },
    {
      "cell_type": "markdown",
      "metadata": {
        "id": "-Dw4Khi70u9g"
      },
      "source": [
        "## Feature Scaling"
      ]
    },
    {
      "cell_type": "code",
      "source": [
        "from sklearn.preprocessing import StandardScaler\n",
        "sc = StandardScaler()\n",
        "X_train = sc.fit_transform(X_train)\n",
        "X_test = sc.transform(X_test)"
      ],
      "metadata": {
        "id": "VPqvbymW-bKU"
      },
      "execution_count": 10,
      "outputs": []
    },
    {
      "cell_type": "code",
      "source": [
        "print(X_train)"
      ],
      "metadata": {
        "colab": {
          "base_uri": "https://localhost:8080/"
        },
        "id": "rBot65vZ-ipa",
        "outputId": "75d5bc24-22f0-4532-8e62-52a78ea110f0"
      },
      "execution_count": 11,
      "outputs": [
        {
          "output_type": "stream",
          "name": "stdout",
          "text": [
            "[[ 0.30645937 -0.72727353]\n",
            " [-0.55054887 -1.66795146]\n",
            " [-1.40755711 -0.83799034]\n",
            " [ 0.55131887  1.5136215 ]\n",
            " [ 0.30645937 -0.47828519]\n",
            " [-1.16269761  0.24095912]\n",
            " [-1.8972761  -0.94862416]\n",
            " [ 1.04103786 -0.11866304]\n",
            " [-0.06082987 -0.72727353]\n",
            " [ 0.06159987 -0.5336436 ]\n",
            " [-0.18325962 -0.20165915]\n",
            " [-1.04026786 -0.56128131]\n",
            " [-0.18325962 -0.78263194]\n",
            " [ 0.79617836  0.01969148]\n",
            " [-0.18325962 -0.56128131]\n",
            " [ 0.30645937 -0.09102533]\n",
            " [ 2.26533534  0.8219319 ]\n",
            " [ 0.30645937 -0.50600589]\n",
            " [ 1.53075685 -1.2252502 ]\n",
            " [ 0.79617836  1.07092024]\n",
            " [ 0.91860811  1.81788525]\n",
            " [-0.55054887  1.15391635]\n",
            " [-0.18325962  0.8219319 ]\n",
            " [-1.28512736 -1.41896313]\n",
            " [ 0.79617836  0.10268759]\n",
            " [-0.79540836 -1.39124243]\n",
            " [-0.79540836 -0.97626187]\n",
            " [-0.18325962 -0.17402145]\n",
            " [-0.18325962  1.81788525]\n",
            " [ 0.18402962 -0.20165915]\n",
            " [-0.18325962 -0.50600589]\n",
            " [-0.06082987 -0.00802922]\n",
            " [-1.16269761 -1.75094758]\n",
            " [-0.06082987  0.04732919]\n",
            " [ 0.42888912  0.04732919]\n",
            " [-1.52998685 -1.66795146]\n",
            " [ 0.30645937 -0.58900201]\n",
            " [ 0.30645937 -0.00802922]\n",
            " [-0.06082987 -0.03566693]\n",
            " [-1.16269761 -0.97626187]\n",
            " [-0.67297862  0.01969148]\n",
            " [-1.6524166  -0.17402145]\n",
            " [ 1.16346761  0.21332141]\n",
            " [ 1.04103786  1.45826309]\n",
            " [ 0.42888912  0.8219319 ]\n",
            " [-1.6524166  -1.52959695]\n",
            " [-1.16269761  1.09864094]\n",
            " [-1.04026786 -0.56128131]\n",
            " [ 0.18402962  1.5412592 ]\n",
            " [ 0.79617836  0.48994745]\n",
            " [-0.67297862 -0.28465526]\n",
            " [-0.42811912 -0.75499423]\n",
            " [-0.18325962 -0.67199812]\n",
            " [-0.06082987 -0.45064749]\n",
            " [-1.04026786  0.157963  ]\n",
            " [-0.55054887  1.07092024]\n",
            " [ 0.30645937 -0.17402145]\n",
            " [-1.77484635 -0.06330463]\n",
            " [-1.52998685 -0.42300978]\n",
            " [ 0.30645937  0.04732919]\n",
            " [ 2.26533534 -1.00398257]\n",
            " [-0.18325962  0.01969148]\n",
            " [ 2.14290559 -0.06330463]\n",
            " [-1.16269761  0.04732919]\n",
            " [-0.30568937 -0.97626187]\n",
            " [ 0.42888912  1.95623977]\n",
            " [ 0.18402962  0.76665649]\n",
            " [-1.77484635 -1.64023076]\n",
            " [-0.18325962 -0.64427742]\n",
            " [ 2.14290559  0.26867982]\n",
            " [-0.91783811 -1.28060861]\n",
            " [ 1.28589736  0.26867982]\n",
            " [-1.40755711 -1.39124243]\n",
            " [-0.42811912  1.95623977]\n",
            " [ 1.4083271   1.65189302]\n",
            " [-1.04026786 -1.61259306]\n",
            " [-0.67297862  1.04328253]\n",
            " [-0.18325962  0.51766815]\n",
            " [-0.06082987 -0.22929686]\n",
            " [ 1.4083271  -1.58495535]\n",
            " [-0.91783811  0.01969148]\n",
            " [-1.28512736 -0.64427742]\n",
            " [ 1.4083271  -1.11461638]\n",
            " [ 1.8980461  -1.44660083]\n",
            " [-0.18325962 -1.08697868]\n",
            " [ 0.30645937 -0.17402145]\n",
            " [-1.16269761  0.04732919]\n",
            " [ 0.30645937 -0.20165915]\n",
            " [-0.30568937  0.93264871]\n",
            " [ 0.42888912 -0.14630074]\n",
            " [-1.16269761 -1.1976125 ]\n",
            " [ 0.91860811 -0.97626187]\n",
            " [-0.18325962 -0.47828519]\n",
            " [-0.79540836  0.1303253 ]\n",
            " [ 1.04103786  0.32395523]\n",
            " [-1.04026786 -0.58900201]\n",
            " [-0.06082987 -0.69963582]\n",
            " [-1.16269761  0.32395523]\n",
            " [ 2.02047585  0.46230975]\n",
            " [ 0.91860811 -0.78263194]\n",
            " [ 1.04103786  1.73488913]\n",
            " [ 1.04103786 -1.33596702]\n",
            " [-1.16269761  0.21332141]\n",
            " [-0.18325962 -1.55723465]\n",
            " [-1.16269761  0.04732919]\n",
            " [-0.55054887  1.98387747]\n",
            " [-0.18325962  1.90088136]\n",
            " [ 1.04103786  0.48994745]\n",
            " [ 0.18402962  1.5412592 ]\n",
            " [ 0.18402962  0.01969148]\n",
            " [-0.18325962 -0.50600589]\n",
            " [ 0.30645937  1.76260984]\n",
            " [-1.16269761 -1.2529709 ]\n",
            " [-1.40755711 -1.61259306]\n",
            " [-1.6524166   0.26867982]\n",
            " [-0.06082987  0.01969148]\n",
            " [ 0.30645937 -0.17402145]\n",
            " [-0.67297862  0.29631752]\n",
            " [-1.77484635 -1.44660083]\n",
            " [ 1.16346761  1.73488913]\n",
            " [ 0.79617836  1.45826309]\n",
            " [-0.18325962 -0.42300978]\n",
            " [ 1.53075685  0.10268759]\n",
            " [-0.30568937 -0.17402145]\n",
            " [-0.06082987 -1.2529709 ]\n",
            " [ 1.77561635  1.5136215 ]\n",
            " [ 0.06159987  0.04732919]\n",
            " [ 0.55131887  1.40290469]\n",
            " [-0.79540836 -0.86562805]\n",
            " [-1.04026786  0.29631752]\n",
            " [ 1.4083271   0.98792412]\n",
            " [-0.18325962 -1.52959695]\n",
            " [-0.79540836  1.92860206]\n",
            " [ 0.30645937  0.01969148]\n",
            " [ 0.30645937 -0.36765138]\n",
            " [-0.06082987  1.87324365]\n",
            " [-0.42811912  0.96028642]\n",
            " [-0.06082987  0.40695134]\n",
            " [ 0.91860811  0.79429419]\n",
            " [-0.18325962 -1.61259306]\n",
            " [-0.06082987 -0.20165915]\n",
            " [ 1.16346761  0.26867982]\n",
            " [ 1.4083271   0.32395523]\n",
            " [ 1.28589736 -1.16997479]\n",
            " [ 2.26533534  0.65593968]\n",
            " [ 2.14290559  1.79024754]\n",
            " [ 1.53075685  1.79024754]\n",
            " [ 1.77561635  1.43062539]\n",
            " [-1.77484635 -0.22929686]\n",
            " [ 0.30645937 -0.17402145]\n",
            " [ 0.42888912  0.01969148]\n",
            " [-0.79540836  0.1303253 ]\n",
            " [ 0.06159987 -0.75499423]\n",
            " [-1.28512736  0.157963  ]\n",
            " [-0.18325962  1.31990857]\n",
            " [-1.16269761  0.01969148]\n",
            " [ 1.4083271   1.98387747]\n",
            " [ 0.79617836 -1.28060861]\n",
            " [-0.06082987  1.81788525]]\n"
          ]
        }
      ]
    },
    {
      "cell_type": "code",
      "source": [
        "print(X_test)"
      ],
      "metadata": {
        "colab": {
          "base_uri": "https://localhost:8080/"
        },
        "id": "89IcVUJn-lp3",
        "outputId": "84617301-4a16-40f0-9eac-e01dd8bc8e8e"
      },
      "execution_count": 12,
      "outputs": [
        {
          "output_type": "stream",
          "name": "stdout",
          "text": [
            "[[ 1.16346761 -0.11866304]\n",
            " [-1.04026786 -0.67199812]\n",
            " [ 0.18402962 -1.00398257]\n",
            " [ 1.6531866   0.71129808]\n",
            " [-0.30568937 -0.97626187]\n",
            " [ 1.16346761  0.29631752]\n",
            " [-1.6524166   0.10268759]\n",
            " [-1.28512736 -1.52959695]\n",
            " [ 1.77561635  0.71129808]\n",
            " [ 0.06159987 -0.78263194]\n",
            " [ 0.18402962 -0.09102533]\n",
            " [ 0.06159987 -0.20165915]\n",
            " [-0.18325962 -0.86562805]\n",
            " [-1.40755711 -0.34001367]\n",
            " [ 0.91860811 -0.86562805]\n",
            " [ 2.02047585  0.62830197]\n",
            " [-1.52998685 -0.64427742]\n",
            " [-0.30568937  1.01564483]\n",
            " [ 0.79617836 -1.55723465]\n",
            " [ 1.04103786  1.65189302]\n",
            " [-0.67297862  1.56889691]\n",
            " [ 0.30645937 -0.72727353]\n",
            " [ 1.16346761 -0.36765138]\n",
            " [ 0.91860811  0.96028642]\n",
            " [-1.16269761 -1.55723465]\n",
            " [ 1.04103786  1.12627864]\n",
            " [ 1.8980461  -0.11866304]\n",
            " [-0.18325962 -0.36765138]\n",
            " [-1.28512736 -1.28060861]\n",
            " [ 1.04103786  1.5412592 ]\n",
            " [ 0.42888912 -0.36765138]\n",
            " [-1.77484635 -1.58495535]\n",
            " [ 1.8980461  -0.50600589]\n",
            " [ 1.77561635 -1.08697868]\n",
            " [-0.18325962  0.35167593]\n",
            " [-0.42811912 -1.03162027]\n",
            " [ 0.67374861 -1.08697868]\n",
            " [ 1.8980461   1.20927476]\n",
            " [-0.91783811  0.29631752]\n",
            " [-1.6524166  -1.16997479]]\n"
          ]
        }
      ]
    },
    {
      "cell_type": "markdown",
      "metadata": {
        "id": "2QUFYaoH00H6"
      },
      "source": [
        "## Logistic Regression Training on Training set"
      ]
    },
    {
      "cell_type": "code",
      "source": [
        "from sklearn.linear_model import LogisticRegression\n",
        "classifier = LogisticRegression(random_state= 42)\n",
        "classifier.fit(X_train, y_train)"
      ],
      "metadata": {
        "colab": {
          "base_uri": "https://localhost:8080/",
          "height": 80
        },
        "id": "xtbW_Iud-qp6",
        "outputId": "702bdd8e-cb7a-42c3-841d-e021b9b460fb"
      },
      "execution_count": 14,
      "outputs": [
        {
          "output_type": "execute_result",
          "data": {
            "text/plain": [
              "LogisticRegression(random_state=42)"
            ],
            "text/html": [
              "<style>#sk-container-id-1 {\n",
              "  /* Definition of color scheme common for light and dark mode */\n",
              "  --sklearn-color-text: #000;\n",
              "  --sklearn-color-text-muted: #666;\n",
              "  --sklearn-color-line: gray;\n",
              "  /* Definition of color scheme for unfitted estimators */\n",
              "  --sklearn-color-unfitted-level-0: #fff5e6;\n",
              "  --sklearn-color-unfitted-level-1: #f6e4d2;\n",
              "  --sklearn-color-unfitted-level-2: #ffe0b3;\n",
              "  --sklearn-color-unfitted-level-3: chocolate;\n",
              "  /* Definition of color scheme for fitted estimators */\n",
              "  --sklearn-color-fitted-level-0: #f0f8ff;\n",
              "  --sklearn-color-fitted-level-1: #d4ebff;\n",
              "  --sklearn-color-fitted-level-2: #b3dbfd;\n",
              "  --sklearn-color-fitted-level-3: cornflowerblue;\n",
              "\n",
              "  /* Specific color for light theme */\n",
              "  --sklearn-color-text-on-default-background: var(--sg-text-color, var(--theme-code-foreground, var(--jp-content-font-color1, black)));\n",
              "  --sklearn-color-background: var(--sg-background-color, var(--theme-background, var(--jp-layout-color0, white)));\n",
              "  --sklearn-color-border-box: var(--sg-text-color, var(--theme-code-foreground, var(--jp-content-font-color1, black)));\n",
              "  --sklearn-color-icon: #696969;\n",
              "\n",
              "  @media (prefers-color-scheme: dark) {\n",
              "    /* Redefinition of color scheme for dark theme */\n",
              "    --sklearn-color-text-on-default-background: var(--sg-text-color, var(--theme-code-foreground, var(--jp-content-font-color1, white)));\n",
              "    --sklearn-color-background: var(--sg-background-color, var(--theme-background, var(--jp-layout-color0, #111)));\n",
              "    --sklearn-color-border-box: var(--sg-text-color, var(--theme-code-foreground, var(--jp-content-font-color1, white)));\n",
              "    --sklearn-color-icon: #878787;\n",
              "  }\n",
              "}\n",
              "\n",
              "#sk-container-id-1 {\n",
              "  color: var(--sklearn-color-text);\n",
              "}\n",
              "\n",
              "#sk-container-id-1 pre {\n",
              "  padding: 0;\n",
              "}\n",
              "\n",
              "#sk-container-id-1 input.sk-hidden--visually {\n",
              "  border: 0;\n",
              "  clip: rect(1px 1px 1px 1px);\n",
              "  clip: rect(1px, 1px, 1px, 1px);\n",
              "  height: 1px;\n",
              "  margin: -1px;\n",
              "  overflow: hidden;\n",
              "  padding: 0;\n",
              "  position: absolute;\n",
              "  width: 1px;\n",
              "}\n",
              "\n",
              "#sk-container-id-1 div.sk-dashed-wrapped {\n",
              "  border: 1px dashed var(--sklearn-color-line);\n",
              "  margin: 0 0.4em 0.5em 0.4em;\n",
              "  box-sizing: border-box;\n",
              "  padding-bottom: 0.4em;\n",
              "  background-color: var(--sklearn-color-background);\n",
              "}\n",
              "\n",
              "#sk-container-id-1 div.sk-container {\n",
              "  /* jupyter's `normalize.less` sets `[hidden] { display: none; }`\n",
              "     but bootstrap.min.css set `[hidden] { display: none !important; }`\n",
              "     so we also need the `!important` here to be able to override the\n",
              "     default hidden behavior on the sphinx rendered scikit-learn.org.\n",
              "     See: https://github.com/scikit-learn/scikit-learn/issues/21755 */\n",
              "  display: inline-block !important;\n",
              "  position: relative;\n",
              "}\n",
              "\n",
              "#sk-container-id-1 div.sk-text-repr-fallback {\n",
              "  display: none;\n",
              "}\n",
              "\n",
              "div.sk-parallel-item,\n",
              "div.sk-serial,\n",
              "div.sk-item {\n",
              "  /* draw centered vertical line to link estimators */\n",
              "  background-image: linear-gradient(var(--sklearn-color-text-on-default-background), var(--sklearn-color-text-on-default-background));\n",
              "  background-size: 2px 100%;\n",
              "  background-repeat: no-repeat;\n",
              "  background-position: center center;\n",
              "}\n",
              "\n",
              "/* Parallel-specific style estimator block */\n",
              "\n",
              "#sk-container-id-1 div.sk-parallel-item::after {\n",
              "  content: \"\";\n",
              "  width: 100%;\n",
              "  border-bottom: 2px solid var(--sklearn-color-text-on-default-background);\n",
              "  flex-grow: 1;\n",
              "}\n",
              "\n",
              "#sk-container-id-1 div.sk-parallel {\n",
              "  display: flex;\n",
              "  align-items: stretch;\n",
              "  justify-content: center;\n",
              "  background-color: var(--sklearn-color-background);\n",
              "  position: relative;\n",
              "}\n",
              "\n",
              "#sk-container-id-1 div.sk-parallel-item {\n",
              "  display: flex;\n",
              "  flex-direction: column;\n",
              "}\n",
              "\n",
              "#sk-container-id-1 div.sk-parallel-item:first-child::after {\n",
              "  align-self: flex-end;\n",
              "  width: 50%;\n",
              "}\n",
              "\n",
              "#sk-container-id-1 div.sk-parallel-item:last-child::after {\n",
              "  align-self: flex-start;\n",
              "  width: 50%;\n",
              "}\n",
              "\n",
              "#sk-container-id-1 div.sk-parallel-item:only-child::after {\n",
              "  width: 0;\n",
              "}\n",
              "\n",
              "/* Serial-specific style estimator block */\n",
              "\n",
              "#sk-container-id-1 div.sk-serial {\n",
              "  display: flex;\n",
              "  flex-direction: column;\n",
              "  align-items: center;\n",
              "  background-color: var(--sklearn-color-background);\n",
              "  padding-right: 1em;\n",
              "  padding-left: 1em;\n",
              "}\n",
              "\n",
              "\n",
              "/* Toggleable style: style used for estimator/Pipeline/ColumnTransformer box that is\n",
              "clickable and can be expanded/collapsed.\n",
              "- Pipeline and ColumnTransformer use this feature and define the default style\n",
              "- Estimators will overwrite some part of the style using the `sk-estimator` class\n",
              "*/\n",
              "\n",
              "/* Pipeline and ColumnTransformer style (default) */\n",
              "\n",
              "#sk-container-id-1 div.sk-toggleable {\n",
              "  /* Default theme specific background. It is overwritten whether we have a\n",
              "  specific estimator or a Pipeline/ColumnTransformer */\n",
              "  background-color: var(--sklearn-color-background);\n",
              "}\n",
              "\n",
              "/* Toggleable label */\n",
              "#sk-container-id-1 label.sk-toggleable__label {\n",
              "  cursor: pointer;\n",
              "  display: flex;\n",
              "  width: 100%;\n",
              "  margin-bottom: 0;\n",
              "  padding: 0.5em;\n",
              "  box-sizing: border-box;\n",
              "  text-align: center;\n",
              "  align-items: start;\n",
              "  justify-content: space-between;\n",
              "  gap: 0.5em;\n",
              "}\n",
              "\n",
              "#sk-container-id-1 label.sk-toggleable__label .caption {\n",
              "  font-size: 0.6rem;\n",
              "  font-weight: lighter;\n",
              "  color: var(--sklearn-color-text-muted);\n",
              "}\n",
              "\n",
              "#sk-container-id-1 label.sk-toggleable__label-arrow:before {\n",
              "  /* Arrow on the left of the label */\n",
              "  content: \"▸\";\n",
              "  float: left;\n",
              "  margin-right: 0.25em;\n",
              "  color: var(--sklearn-color-icon);\n",
              "}\n",
              "\n",
              "#sk-container-id-1 label.sk-toggleable__label-arrow:hover:before {\n",
              "  color: var(--sklearn-color-text);\n",
              "}\n",
              "\n",
              "/* Toggleable content - dropdown */\n",
              "\n",
              "#sk-container-id-1 div.sk-toggleable__content {\n",
              "  max-height: 0;\n",
              "  max-width: 0;\n",
              "  overflow: hidden;\n",
              "  text-align: left;\n",
              "  /* unfitted */\n",
              "  background-color: var(--sklearn-color-unfitted-level-0);\n",
              "}\n",
              "\n",
              "#sk-container-id-1 div.sk-toggleable__content.fitted {\n",
              "  /* fitted */\n",
              "  background-color: var(--sklearn-color-fitted-level-0);\n",
              "}\n",
              "\n",
              "#sk-container-id-1 div.sk-toggleable__content pre {\n",
              "  margin: 0.2em;\n",
              "  border-radius: 0.25em;\n",
              "  color: var(--sklearn-color-text);\n",
              "  /* unfitted */\n",
              "  background-color: var(--sklearn-color-unfitted-level-0);\n",
              "}\n",
              "\n",
              "#sk-container-id-1 div.sk-toggleable__content.fitted pre {\n",
              "  /* unfitted */\n",
              "  background-color: var(--sklearn-color-fitted-level-0);\n",
              "}\n",
              "\n",
              "#sk-container-id-1 input.sk-toggleable__control:checked~div.sk-toggleable__content {\n",
              "  /* Expand drop-down */\n",
              "  max-height: 200px;\n",
              "  max-width: 100%;\n",
              "  overflow: auto;\n",
              "}\n",
              "\n",
              "#sk-container-id-1 input.sk-toggleable__control:checked~label.sk-toggleable__label-arrow:before {\n",
              "  content: \"▾\";\n",
              "}\n",
              "\n",
              "/* Pipeline/ColumnTransformer-specific style */\n",
              "\n",
              "#sk-container-id-1 div.sk-label input.sk-toggleable__control:checked~label.sk-toggleable__label {\n",
              "  color: var(--sklearn-color-text);\n",
              "  background-color: var(--sklearn-color-unfitted-level-2);\n",
              "}\n",
              "\n",
              "#sk-container-id-1 div.sk-label.fitted input.sk-toggleable__control:checked~label.sk-toggleable__label {\n",
              "  background-color: var(--sklearn-color-fitted-level-2);\n",
              "}\n",
              "\n",
              "/* Estimator-specific style */\n",
              "\n",
              "/* Colorize estimator box */\n",
              "#sk-container-id-1 div.sk-estimator input.sk-toggleable__control:checked~label.sk-toggleable__label {\n",
              "  /* unfitted */\n",
              "  background-color: var(--sklearn-color-unfitted-level-2);\n",
              "}\n",
              "\n",
              "#sk-container-id-1 div.sk-estimator.fitted input.sk-toggleable__control:checked~label.sk-toggleable__label {\n",
              "  /* fitted */\n",
              "  background-color: var(--sklearn-color-fitted-level-2);\n",
              "}\n",
              "\n",
              "#sk-container-id-1 div.sk-label label.sk-toggleable__label,\n",
              "#sk-container-id-1 div.sk-label label {\n",
              "  /* The background is the default theme color */\n",
              "  color: var(--sklearn-color-text-on-default-background);\n",
              "}\n",
              "\n",
              "/* On hover, darken the color of the background */\n",
              "#sk-container-id-1 div.sk-label:hover label.sk-toggleable__label {\n",
              "  color: var(--sklearn-color-text);\n",
              "  background-color: var(--sklearn-color-unfitted-level-2);\n",
              "}\n",
              "\n",
              "/* Label box, darken color on hover, fitted */\n",
              "#sk-container-id-1 div.sk-label.fitted:hover label.sk-toggleable__label.fitted {\n",
              "  color: var(--sklearn-color-text);\n",
              "  background-color: var(--sklearn-color-fitted-level-2);\n",
              "}\n",
              "\n",
              "/* Estimator label */\n",
              "\n",
              "#sk-container-id-1 div.sk-label label {\n",
              "  font-family: monospace;\n",
              "  font-weight: bold;\n",
              "  display: inline-block;\n",
              "  line-height: 1.2em;\n",
              "}\n",
              "\n",
              "#sk-container-id-1 div.sk-label-container {\n",
              "  text-align: center;\n",
              "}\n",
              "\n",
              "/* Estimator-specific */\n",
              "#sk-container-id-1 div.sk-estimator {\n",
              "  font-family: monospace;\n",
              "  border: 1px dotted var(--sklearn-color-border-box);\n",
              "  border-radius: 0.25em;\n",
              "  box-sizing: border-box;\n",
              "  margin-bottom: 0.5em;\n",
              "  /* unfitted */\n",
              "  background-color: var(--sklearn-color-unfitted-level-0);\n",
              "}\n",
              "\n",
              "#sk-container-id-1 div.sk-estimator.fitted {\n",
              "  /* fitted */\n",
              "  background-color: var(--sklearn-color-fitted-level-0);\n",
              "}\n",
              "\n",
              "/* on hover */\n",
              "#sk-container-id-1 div.sk-estimator:hover {\n",
              "  /* unfitted */\n",
              "  background-color: var(--sklearn-color-unfitted-level-2);\n",
              "}\n",
              "\n",
              "#sk-container-id-1 div.sk-estimator.fitted:hover {\n",
              "  /* fitted */\n",
              "  background-color: var(--sklearn-color-fitted-level-2);\n",
              "}\n",
              "\n",
              "/* Specification for estimator info (e.g. \"i\" and \"?\") */\n",
              "\n",
              "/* Common style for \"i\" and \"?\" */\n",
              "\n",
              ".sk-estimator-doc-link,\n",
              "a:link.sk-estimator-doc-link,\n",
              "a:visited.sk-estimator-doc-link {\n",
              "  float: right;\n",
              "  font-size: smaller;\n",
              "  line-height: 1em;\n",
              "  font-family: monospace;\n",
              "  background-color: var(--sklearn-color-background);\n",
              "  border-radius: 1em;\n",
              "  height: 1em;\n",
              "  width: 1em;\n",
              "  text-decoration: none !important;\n",
              "  margin-left: 0.5em;\n",
              "  text-align: center;\n",
              "  /* unfitted */\n",
              "  border: var(--sklearn-color-unfitted-level-1) 1pt solid;\n",
              "  color: var(--sklearn-color-unfitted-level-1);\n",
              "}\n",
              "\n",
              ".sk-estimator-doc-link.fitted,\n",
              "a:link.sk-estimator-doc-link.fitted,\n",
              "a:visited.sk-estimator-doc-link.fitted {\n",
              "  /* fitted */\n",
              "  border: var(--sklearn-color-fitted-level-1) 1pt solid;\n",
              "  color: var(--sklearn-color-fitted-level-1);\n",
              "}\n",
              "\n",
              "/* On hover */\n",
              "div.sk-estimator:hover .sk-estimator-doc-link:hover,\n",
              ".sk-estimator-doc-link:hover,\n",
              "div.sk-label-container:hover .sk-estimator-doc-link:hover,\n",
              ".sk-estimator-doc-link:hover {\n",
              "  /* unfitted */\n",
              "  background-color: var(--sklearn-color-unfitted-level-3);\n",
              "  color: var(--sklearn-color-background);\n",
              "  text-decoration: none;\n",
              "}\n",
              "\n",
              "div.sk-estimator.fitted:hover .sk-estimator-doc-link.fitted:hover,\n",
              ".sk-estimator-doc-link.fitted:hover,\n",
              "div.sk-label-container:hover .sk-estimator-doc-link.fitted:hover,\n",
              ".sk-estimator-doc-link.fitted:hover {\n",
              "  /* fitted */\n",
              "  background-color: var(--sklearn-color-fitted-level-3);\n",
              "  color: var(--sklearn-color-background);\n",
              "  text-decoration: none;\n",
              "}\n",
              "\n",
              "/* Span, style for the box shown on hovering the info icon */\n",
              ".sk-estimator-doc-link span {\n",
              "  display: none;\n",
              "  z-index: 9999;\n",
              "  position: relative;\n",
              "  font-weight: normal;\n",
              "  right: .2ex;\n",
              "  padding: .5ex;\n",
              "  margin: .5ex;\n",
              "  width: min-content;\n",
              "  min-width: 20ex;\n",
              "  max-width: 50ex;\n",
              "  color: var(--sklearn-color-text);\n",
              "  box-shadow: 2pt 2pt 4pt #999;\n",
              "  /* unfitted */\n",
              "  background: var(--sklearn-color-unfitted-level-0);\n",
              "  border: .5pt solid var(--sklearn-color-unfitted-level-3);\n",
              "}\n",
              "\n",
              ".sk-estimator-doc-link.fitted span {\n",
              "  /* fitted */\n",
              "  background: var(--sklearn-color-fitted-level-0);\n",
              "  border: var(--sklearn-color-fitted-level-3);\n",
              "}\n",
              "\n",
              ".sk-estimator-doc-link:hover span {\n",
              "  display: block;\n",
              "}\n",
              "\n",
              "/* \"?\"-specific style due to the `<a>` HTML tag */\n",
              "\n",
              "#sk-container-id-1 a.estimator_doc_link {\n",
              "  float: right;\n",
              "  font-size: 1rem;\n",
              "  line-height: 1em;\n",
              "  font-family: monospace;\n",
              "  background-color: var(--sklearn-color-background);\n",
              "  border-radius: 1rem;\n",
              "  height: 1rem;\n",
              "  width: 1rem;\n",
              "  text-decoration: none;\n",
              "  /* unfitted */\n",
              "  color: var(--sklearn-color-unfitted-level-1);\n",
              "  border: var(--sklearn-color-unfitted-level-1) 1pt solid;\n",
              "}\n",
              "\n",
              "#sk-container-id-1 a.estimator_doc_link.fitted {\n",
              "  /* fitted */\n",
              "  border: var(--sklearn-color-fitted-level-1) 1pt solid;\n",
              "  color: var(--sklearn-color-fitted-level-1);\n",
              "}\n",
              "\n",
              "/* On hover */\n",
              "#sk-container-id-1 a.estimator_doc_link:hover {\n",
              "  /* unfitted */\n",
              "  background-color: var(--sklearn-color-unfitted-level-3);\n",
              "  color: var(--sklearn-color-background);\n",
              "  text-decoration: none;\n",
              "}\n",
              "\n",
              "#sk-container-id-1 a.estimator_doc_link.fitted:hover {\n",
              "  /* fitted */\n",
              "  background-color: var(--sklearn-color-fitted-level-3);\n",
              "}\n",
              "</style><div id=\"sk-container-id-1\" class=\"sk-top-container\"><div class=\"sk-text-repr-fallback\"><pre>LogisticRegression(random_state=42)</pre><b>In a Jupyter environment, please rerun this cell to show the HTML representation or trust the notebook. <br />On GitHub, the HTML representation is unable to render, please try loading this page with nbviewer.org.</b></div><div class=\"sk-container\" hidden><div class=\"sk-item\"><div class=\"sk-estimator fitted sk-toggleable\"><input class=\"sk-toggleable__control sk-hidden--visually\" id=\"sk-estimator-id-1\" type=\"checkbox\" checked><label for=\"sk-estimator-id-1\" class=\"sk-toggleable__label fitted sk-toggleable__label-arrow\"><div><div>LogisticRegression</div></div><div><a class=\"sk-estimator-doc-link fitted\" rel=\"noreferrer\" target=\"_blank\" href=\"https://scikit-learn.org/1.6/modules/generated/sklearn.linear_model.LogisticRegression.html\">?<span>Documentation for LogisticRegression</span></a><span class=\"sk-estimator-doc-link fitted\">i<span>Fitted</span></span></div></label><div class=\"sk-toggleable__content fitted\"><pre>LogisticRegression(random_state=42)</pre></div> </div></div></div></div>"
            ]
          },
          "metadata": {},
          "execution_count": 14
        }
      ]
    },
    {
      "cell_type": "markdown",
      "metadata": {
        "id": "iXT0yCoI07X8"
      },
      "source": [
        "## Predicting"
      ]
    },
    {
      "cell_type": "code",
      "source": [
        "print(classifier.predict(sc.transform([[54, 4100]])))"
      ],
      "metadata": {
        "colab": {
          "base_uri": "https://localhost:8080/"
        },
        "id": "qkTFteZu_F0e",
        "outputId": "d1b9f53f-ad0b-4481-c1a0-6c419619b401"
      },
      "execution_count": 18,
      "outputs": [
        {
          "output_type": "stream",
          "name": "stdout",
          "text": [
            "[1]\n"
          ]
        }
      ]
    },
    {
      "cell_type": "markdown",
      "metadata": {
        "id": "9oG_iJfc1A0K"
      },
      "source": [
        "## Predicting Test set results"
      ]
    },
    {
      "cell_type": "code",
      "source": [
        "y_pred = classifier.predict(X_test)\n",
        "print(np.concatenate((y_pred.reshape(len(y_pred), 1), y_test.reshape(len(y_test), 1)), 1))"
      ],
      "metadata": {
        "colab": {
          "base_uri": "https://localhost:8080/"
        },
        "id": "bvTXDemn_2X6",
        "outputId": "f26c06d6-1611-4f79-81a9-5a25aeec1179"
      },
      "execution_count": 21,
      "outputs": [
        {
          "output_type": "stream",
          "name": "stdout",
          "text": [
            "[[1 0]\n",
            " [0 0]\n",
            " [0 0]\n",
            " [1 1]\n",
            " [0 0]\n",
            " [1 1]\n",
            " [0 0]\n",
            " [0 0]\n",
            " [1 1]\n",
            " [0 0]\n",
            " [0 1]\n",
            " [0 0]\n",
            " [0 0]\n",
            " [0 0]\n",
            " [0 0]\n",
            " [1 1]\n",
            " [0 0]\n",
            " [0 0]\n",
            " [0 0]\n",
            " [1 1]\n",
            " [0 1]\n",
            " [0 0]\n",
            " [1 0]\n",
            " [1 1]\n",
            " [0 0]\n",
            " [1 1]\n",
            " [1 1]\n",
            " [0 0]\n",
            " [0 0]\n",
            " [1 1]\n",
            " [0 0]\n",
            " [0 0]\n",
            " [1 1]\n",
            " [1 1]\n",
            " [0 1]\n",
            " [0 0]\n",
            " [0 0]\n",
            " [1 1]\n",
            " [0 0]\n",
            " [0 0]]\n"
          ]
        }
      ]
    },
    {
      "cell_type": "markdown",
      "metadata": {
        "id": "p6I0bJj_1Fxl"
      },
      "source": [
        "## Confusion Matrix"
      ]
    },
    {
      "cell_type": "code",
      "source": [
        "from sklearn.metrics import confusion_matrix, accuracy_score\n",
        "cm = confusion_matrix(y_test, y_pred)\n",
        "print(cm)\n",
        "accuracy_score(y_test, y_pred)"
      ],
      "metadata": {
        "colab": {
          "base_uri": "https://localhost:8080/"
        },
        "id": "8VYK-8eqBs0H",
        "outputId": "562274ef-6707-49f4-cf45-ba46157be85f"
      },
      "execution_count": 22,
      "outputs": [
        {
          "output_type": "stream",
          "name": "stdout",
          "text": [
            "[[23  2]\n",
            " [ 3 12]]\n"
          ]
        },
        {
          "output_type": "execute_result",
          "data": {
            "text/plain": [
              "0.875"
            ]
          },
          "metadata": {},
          "execution_count": 22
        }
      ]
    },
    {
      "cell_type": "markdown",
      "metadata": {
        "id": "SO86fovR1MKy"
      },
      "source": [
        "## Visualizing Test Set results"
      ]
    },
    {
      "cell_type": "code",
      "source": [
        "from matplotlib.colors import ListedColormap #we have to copy this because no one able to memorize this\n",
        "X_set, y_set = sc.inverse_transform(X_train), y_train\n",
        "X1, X2 = np.meshgrid(np.arange(start = X_set[:, 0].min() - 10, stop = X_set[:, 0].max() + 10, step = 0.25),\n",
        "                     np.arange(start = X_set[:, 1].min() - 1000, stop = X_set[:, 1].max() + 1000, step = 0.25))\n",
        "plt.contourf(X1, X2, classifier.predict(sc.transform(np.array([X1.ravel(), X2.ravel()]).T)).reshape(X1.shape),\n",
        "             alpha = 0.75, cmap = ListedColormap(('red', 'green')))\n",
        "plt.xlim(X1.min(), X1.max())\n",
        "plt.ylim(X2.min(), X2.max())\n",
        "for i, j in enumerate(np.unique(y_set)):\n",
        "    plt.scatter(X_set[y_set == j, 0], X_set[y_set == j, 1], c = ListedColormap(('red', 'green'))(i), label = j)\n",
        "plt.title('Logistic Regression (Training set)')\n",
        "plt.xlabel('Age')\n",
        "plt.ylabel('Estimated Salary')\n",
        "plt.legend()\n",
        "plt.show()"
      ],
      "metadata": {
        "colab": {
          "base_uri": "https://localhost:8080/",
          "height": 528
        },
        "id": "aBlRItTfCRsX",
        "outputId": "054d25ca-be46-45e7-e2e8-3ae220b802d6"
      },
      "execution_count": 25,
      "outputs": [
        {
          "output_type": "stream",
          "name": "stderr",
          "text": [
            "<ipython-input-25-845a921ffe6a>:10: UserWarning: *c* argument looks like a single numeric RGB or RGBA sequence, which should be avoided as value-mapping will have precedence in case its length matches with *x* & *y*.  Please use the *color* keyword-argument or provide a 2D array with a single row if you intend to specify the same RGB or RGBA value for all points.\n",
            "  plt.scatter(X_set[y_set == j, 0], X_set[y_set == j, 1], c = ListedColormap(('red', 'green'))(i), label = j)\n"
          ]
        },
        {
          "output_type": "display_data",
          "data": {
            "text/plain": [
              "<Figure size 640x480 with 1 Axes>"
            ],
            "image/png": "[encoded data removed]"
          },
          "metadata": {}
        }
      ]
    },
    {
      "cell_type": "markdown",
      "metadata": {
        "id": "MokDuSCS1J0n"
      },
      "source": [
        "## Visualising Training set results"
      ]
    },
    {
      "cell_type": "code",
      "source": [
        "from matplotlib.colors import ListedColormap #we have to copy this because no one able to memorize this\n",
        "X_set, y_set = sc.inverse_transform(X_test), y_test\n",
        "X1, X2 = np.meshgrid(np.arange(start = X_set[:, 0].min() - 10, stop = X_set[:, 0].max() + 10, step = 0.25),\n",
        "                     np.arange(start = X_set[:, 1].min() - 1000, stop = X_set[:, 1].max() + 1000, step = 0.25))\n",
        "plt.contourf(X1, X2, classifier.predict(sc.transform(np.array([X1.ravel(), X2.ravel()]).T)).reshape(X1.shape),\n",
        "             alpha = 0.75, cmap = ListedColormap(('red', 'green')))\n",
        "plt.xlim(X1.min(), X1.max())\n",
        "plt.ylim(X2.min(), X2.max())\n",
        "for i, j in enumerate(np.unique(y_set)):\n",
        "    plt.scatter(X_set[y_set == j, 0], X_set[y_set == j, 1], c = ListedColormap(('red', 'green'))(i), label = j)\n",
        "plt.title('Logistic Regression (Test set)')\n",
        "plt.xlabel('Age')\n",
        "plt.ylabel('Estimated Salary')\n",
        "plt.legend()\n",
        "plt.show()"
      ],
      "metadata": {
        "colab": {
          "base_uri": "https://localhost:8080/",
          "height": 528
        },
        "id": "lgNH6ErkD5y8",
        "outputId": "fc648d89-c642-4974-c74b-7aabb16edc84"
      },
      "execution_count": 26,
      "outputs": [
        {
          "output_type": "stream",
          "name": "stderr",
          "text": [
            "<ipython-input-26-a402c7b7a463>:10: UserWarning: *c* argument looks like a single numeric RGB or RGBA sequence, which should be avoided as value-mapping will have precedence in case its length matches with *x* & *y*.  Please use the *color* keyword-argument or provide a 2D array with a single row if you intend to specify the same RGB or RGBA value for all points.\n",
            "  plt.scatter(X_set[y_set == j, 0], X_set[y_set == j, 1], c = ListedColormap(('red', 'green'))(i), label = j)\n"
          ]
        },
        {
          "output_type": "display_data",
          "data": {
            "text/plain": [
              "<Figure size 640x480 with 1 Axes>"
            ],
            "image/png": "[encoded data removed]"
          },
          "metadata": {}
        }
      ]
    }
  ]
}